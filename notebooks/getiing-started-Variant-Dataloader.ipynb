{
 "cells": [
  {
   "cell_type": "code",
   "execution_count": 1,
   "metadata": {},
   "outputs": [],
   "source": [
    "from kipoiseq.dataloaders.extractor import SingleVariantProteinDataLoader"
   ]
  },
  {
   "cell_type": "code",
   "execution_count": 2,
   "metadata": {},
   "outputs": [],
   "source": [
    "# test files\n",
    "gtf_file = '../tests/data/sample_1_protein.gtf'\n",
    "fasta_file = '../tests/data/demo_dna_seq.fa'\n",
    "vcf_file = '../tests/data/singleVar_vcf_enst_test2.vcf.gz'"
   ]
  },
  {
   "cell_type": "code",
   "execution_count": 3,
   "metadata": {},
   "outputs": [
    {
     "name": "stdout",
     "output_type": "stream",
     "text": [
      "Transcript support level not in gtf.Skipping the associated filters.\n",
      "Transcript support level not in gtf.Skipping the associated filters.\n"
     ]
    }
   ],
   "source": [
    "# initialize\n",
    "svd = SingleVariantProteinDataLoader(gtf_file, fasta_file, vcf_file)"
   ]
  },
  {
   "cell_type": "code",
   "execution_count": 4,
   "metadata": {},
   "outputs": [
    {
     "name": "stdout",
     "output_type": "stream",
     "text": [
      "{'input': {'ref_seq': 'MTSCGQQSLNVLAVLFSLLFSAVLSAHFRVCEPYTDHKGRYHFGFHCPRLSDNKTFILCCHHNNTVFKYCCNETEFQAVMQANLTASSEGYMHNNYTALLGVWIYGFFVLMLLVLDLLYYSAMNYDICKVYLARWGIQGRWMKQDPRRWGNPARAPRPGQRAPQPQPPPGPLPQAPQAVHTLRGDAHSPPLMTFQSSS', 'alt_seq': 'ITSCGQQSLNVLAVLFSLLFSAVLSAHFRVCEPYTDHKGRYHFGFHCPRLSDNKTFILCCHHNNTVFKYCCNETEFQAVMQANLTASSEGYMHNNYTALLGVWIYGFFVLMLLVLDLLYYSAMNYDICKVYLARWGIQGRWMKQDPRRWGNPARAPRPGQRAPQPQPPPGPLPQAPQAVHTLRGDAHSPPLMTFQSSS'}, 'metadata':   transcript_id Chromosome          Source Feature Score Strand  Frame  \\\n",
      "1    enst_test2         22  protein_coding     CDS     .      -      2   \n",
      "\n",
      "           gene_id exon_number gene_name     gene_source    gene_biotype  \\\n",
      "1  ENSG00000138944           3  KIAA1644  ensembl_havana  protein_coding   \n",
      "\n",
      "  transcript_name transcript_source              tag    ccds_id  \\\n",
      "1    KIAA1644-006    ensembl_havana  CCDS,cds_end_NF  CCDS43025   \n",
      "\n",
      "        protein_id  \n",
      "1  ENSP00000370568  }\n",
      "{'input': {'ref_seq': 'MTSCGQQSLNVLAVLFSLLFSAVLSAHFRVCEPYTDHKGRYHFGFHCPRLSDNKTFILCCHHNNTVFKYCCNETEFQAVMQANLTASSEGYMHNNYTALLGVWIYGFFVLMLLVLDLLYYSAMNYDICKVYLARWGIQGRWMKQDPRRWGNPARAPRPGQRAPQPQPPPGPLPQAPQAVHTLRGDAHSPPLMTFQSSS', 'alt_seq': 'TTSCGQQSLNVLAVLFSLLFSAVLSAHFRVCEPYTDHKGRYHFGFHCPRLSDNKTFILCCHHNNTVFKYCCNETEFQAVMQANLTASSEGYMHNNYTALLGVWIYGFFVLMLLVLDLLYYSAMNYDICKVYLARWGIQGRWMKQDPRRWGNPARAPRPGQRAPQPQPPPGPLPQAPQAVHTLRGDAHSPPLMTFQSSS'}, 'metadata':   transcript_id Chromosome          Source Feature Score Strand  Frame  \\\n",
      "1    enst_test2         22  protein_coding     CDS     .      -      2   \n",
      "\n",
      "           gene_id exon_number gene_name     gene_source    gene_biotype  \\\n",
      "1  ENSG00000138944           3  KIAA1644  ensembl_havana  protein_coding   \n",
      "\n",
      "  transcript_name transcript_source              tag    ccds_id  \\\n",
      "1    KIAA1644-006    ensembl_havana  CCDS,cds_end_NF  CCDS43025   \n",
      "\n",
      "        protein_id  \n",
      "1  ENSP00000370568  }\n",
      "{'input': {'ref_seq': 'MTSCGQQSLNVLAVLFSLLFSAVLSAHFRVCEPYTDHKGRYHFGFHCPRLSDNKTFILCCHHNNTVFKYCCNETEFQAVMQANLTASSEGYMHNNYTALLGVWIYGFFVLMLLVLDLLYYSAMNYDICKVYLARWGIQGRWMKQDPRRWGNPARAPRPGQRAPQPQPPPGPLPQAPQAVHTLRGDAHSPPLMTFQSSS', 'alt_seq': 'LTSCGQQSLNVLAVLFSLLFSAVLSAHFRVCEPYTDHKGRYHFGFHCPRLSDNKTFILCCHHNNTVFKYCCNETEFQAVMQANLTASSEGYMHNNYTALLGVWIYGFFVLMLLVLDLLYYSAMNYDICKVYLARWGIQGRWMKQDPRRWGNPARAPRPGQRAPQPQPPPGPLPQAPQAVHTLRGDAHSPPLMTFQSSS'}, 'metadata':   transcript_id Chromosome          Source Feature Score Strand  Frame  \\\n",
      "1    enst_test2         22  protein_coding     CDS     .      -      2   \n",
      "\n",
      "           gene_id exon_number gene_name     gene_source    gene_biotype  \\\n",
      "1  ENSG00000138944           3  KIAA1644  ensembl_havana  protein_coding   \n",
      "\n",
      "  transcript_name transcript_source              tag    ccds_id  \\\n",
      "1    KIAA1644-006    ensembl_havana  CCDS,cds_end_NF  CCDS43025   \n",
      "\n",
      "        protein_id  \n",
      "1  ENSP00000370568  }\n"
     ]
    }
   ],
   "source": [
    "# get for each transcript_id with variants dictionary ref_seq, alt_seq, metadata\n",
    "for unit in svd:\n",
    "    print(unit)"
   ]
  },
  {
   "cell_type": "code",
   "execution_count": null,
   "metadata": {},
   "outputs": [],
   "source": []
  }
 ],
 "metadata": {
  "kernelspec": {
   "display_name": "Python [conda env:anaconda-nonchevFromBrechtmann]",
   "language": "python",
   "name": "conda-env-anaconda-nonchevFromBrechtmann-py"
  },
  "language_info": {
   "codemirror_mode": {
    "name": "ipython",
    "version": 3
   },
   "file_extension": ".py",
   "mimetype": "text/x-python",
   "name": "python",
   "nbconvert_exporter": "python",
   "pygments_lexer": "ipython3",
   "version": "3.6.10"
  }
 },
 "nbformat": 4,
 "nbformat_minor": 4
}
